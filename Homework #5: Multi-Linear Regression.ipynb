{
  "nbformat": 4,
  "nbformat_minor": 0,
  "metadata": {
    "colab": {
      "provenance": [],
      "include_colab_link": true
    },
    "kernelspec": {
      "name": "python3",
      "display_name": "Python 3"
    },
    "language_info": {
      "name": "python"
    }
  },
  "cells": [
    {
      "cell_type": "markdown",
      "metadata": {
        "id": "view-in-github",
        "colab_type": "text"
      },
      "source": [
        "<a href=\"https://colab.research.google.com/github/Chaotic-Legend/CMP-414-Codes/blob/main/Homework%20%235%3A%20Multi-Linear%20Regression.ipynb\" target=\"_parent\"><img src=\"https://colab.research.google.com/assets/colab-badge.svg\" alt=\"Open In Colab\"/></a>"
      ]
    },
    {
      "cell_type": "markdown",
      "source": [
        "# Homework #5: Multi-Linear Regression\n",
        "\n",
        "For this homework assignment, you will build a linear regression model with multiple input features. Below is a example dataset of house prices. The objective is to predict the price of a house based on its size (sq. ft.), number of bedrooms, and age (years)."
      ],
      "metadata": {
        "id": "9i7QGeyuXfvi"
      }
    },
    {
      "cell_type": "code",
      "source": [
        "import torch\n",
        "\n",
        "# Features: size (sq. ft.), bedrooms, age (years)\n",
        "X = torch.tensor([\n",
        "    [1500, 3, 10], [1800, 4, 5], [1200, 2, 20],\n",
        "    [2200, 4, 2], [1650, 3, 8], [3000, 5, 1],\n",
        "    [1100, 2, 30], [2500, 4, 3], [1900, 3, 12]\n",
        "], dtype=torch.float32)\n",
        "\n",
        "# Target: price (in $1000s)\n",
        "y = torch.tensor([300, 380, 250, 450, 350, 550, 220, 500, 400],\n",
        "                dtype=torch.float32)"
      ],
      "metadata": {
        "id": "YHW7zxtdYGzu"
      },
      "execution_count": 1,
      "outputs": []
    },
    {
      "cell_type": "markdown",
      "source": [
        "The size values are much greater than values from the other two features. To avoid having size dominant in the model, we need to put these values to the same scale. This process is called **data normalization**."
      ],
      "metadata": {
        "id": "5vZ2QaBnYNtA"
      }
    },
    {
      "cell_type": "code",
      "source": [
        "from sklearn.preprocessing import StandardScaler\n",
        "# Normalize features\n",
        "scaler = StandardScaler()\n",
        "X_scaled = scaler.fit_transform(X)\n",
        "X_scaled = torch.tensor(X_scaled, dtype=torch.float32)"
      ],
      "metadata": {
        "id": "V0eb3ogwYMMB"
      },
      "execution_count": 2,
      "outputs": []
    },
    {
      "cell_type": "markdown",
      "source": [
        "1. Initialize Parameters: Create a weight w1, w2, w3 and a bias b that require gradients. Initialize them as a torch tensor with random values (e.g., torch.randn). Remember to set `requires_grad=True`."
      ],
      "metadata": {
        "id": "ijD-ol8AY1Vb"
      }
    },
    {
      "cell_type": "code",
      "source": [
        "# Initialize weights (w0, w1, w2) and bias (b)\n",
        "# Using random values that require gradient computation\n",
        "w = torch.randn(3, requires_grad=True, dtype=torch.float32)\n",
        "b = torch.randn(1, requires_grad=True, dtype=torch.float32)\n",
        "\n",
        "print(\"=== Initial Parameters ===\")\n",
        "print(\"w =\", w)\n",
        "print(\"b =\", b)"
      ],
      "metadata": {
        "id": "kJc_oTypY8O_",
        "colab": {
          "base_uri": "https://localhost:8080/"
        },
        "outputId": "8dccbe52-35c5-4f15-cac9-31b1e0b68788"
      },
      "execution_count": 3,
      "outputs": [
        {
          "output_type": "stream",
          "name": "stdout",
          "text": [
            "=== Initial Parameters ===\n",
            "w = tensor([-0.3712,  0.0477, -0.1444], requires_grad=True)\n",
            "b = tensor([0.4239], requires_grad=True)\n"
          ]
        }
      ]
    },
    {
      "cell_type": "markdown",
      "source": [
        "2. Define the Model: The linear model calculates the prediction as follows:\n",
        "\n",
        "prediction = w0 * size + w1 * bedrooms + w2 * age + b\n",
        "\n",
        "Write a simple function model(X) that calculates the predicted y_pred using the expression:\n",
        "\n",
        "`y_pred=X[:, 0] * w0 + X[:, 1] * w1 + X[:, 2] * w2 + b`"
      ],
      "metadata": {
        "id": "l0T48nvsY8mJ"
      }
    },
    {
      "cell_type": "code",
      "source": [
        "# Linear model: y_pred = w0*x1 + w1*x2 + w2*x3 + b\n",
        "def model(X):\n",
        "    return X @ w + b\n",
        "\n",
        "# Test model output before training\n",
        "print(\"=== Initial Predictions ===\")\n",
        "print(model(X_scaled.to(torch.float32)))"
      ],
      "metadata": {
        "id": "qMsTKDMhZGih",
        "colab": {
          "base_uri": "https://localhost:8080/"
        },
        "outputId": "74530563-5a92-405c-de4b-d237fcd5ce22"
      },
      "execution_count": 4,
      "outputs": [
        {
          "output_type": "stream",
          "name": "stdout",
          "text": [
            "=== Initial Predictions ===\n",
            "tensor([ 0.6475,  0.5861,  0.6286,  0.3778,  0.5834, -0.0686,  0.5320,  0.1693,\n",
            "         0.3588], grad_fn=<AddBackward0>)\n"
          ]
        }
      ]
    },
    {
      "cell_type": "markdown",
      "source": [
        "3. Define Loss Function and Optimizer:\n",
        "\n",
        "- Use Mean Squared Error (MSE) as your loss function\n",
        "- Use Stochastic Gradient Descent (SGD) as your optimizer. torch.optim.SGD will work."
      ],
      "metadata": {
        "id": "gT4dUUESZG2N"
      }
    },
    {
      "cell_type": "code",
      "source": [
        "# Mean Squared Error (MSE) Loss\n",
        "loss_fn = torch.nn.MSELoss()\n",
        "\n",
        "# Stochastic Gradient Descent (SGD) Optimizer\n",
        "optimizer = torch.optim.SGD([w, b], lr=0.01)"
      ],
      "metadata": {
        "id": "MRvz5ZDkZLy6"
      },
      "execution_count": 5,
      "outputs": []
    },
    {
      "cell_type": "markdown",
      "source": [
        "4. Training Loop:\n",
        "\n",
        "In a loop:\n",
        "* a. Calculate the model's prediction (y_pred).\n",
        "* b. Compute the loss.\n",
        "* c. Zero out the gradients with optimizer.zero_grad()\n",
        "* d. Calculate the gradients using loss.backward().\n",
        "* e. Update the parameters using optimizer.step().\n",
        "\n",
        "Execute the training loop with an proper number of epochs. Print the loss during training to observe the training progress."
      ],
      "metadata": {
        "id": "GKAHhG-fZa6P"
      }
    },
    {
      "cell_type": "code",
      "source": [
        "print(\"=== Training Progress ===\")\n",
        "epochs = 500\n",
        "for epoch in range(epochs):\n",
        "    # Forward pass: compute predictions\n",
        "    y_pred = model(X_scaled)\n",
        "\n",
        "    # Compute loss\n",
        "    loss = loss_fn(y_pred, y)\n",
        "\n",
        "    # Zero gradients before backward pass\n",
        "    optimizer.zero_grad()\n",
        "\n",
        "    # Backward pass: compute gradients\n",
        "    loss.backward()\n",
        "\n",
        "    # Update parameters\n",
        "    optimizer.step()\n",
        "\n",
        "    # Print progress every 50 epochs with a title\n",
        "    if (epoch + 1) % 50 == 0: print(f\"Epoch {epoch+1}/{epochs}, Loss = {loss.item():.4f}\\n\")"
      ],
      "metadata": {
        "id": "SU1A_eDc8-x3",
        "colab": {
          "base_uri": "https://localhost:8080/"
        },
        "outputId": "bd7e72a2-522b-4a41-e73b-fd606ae9e431"
      },
      "execution_count": 6,
      "outputs": [
        {
          "output_type": "stream",
          "name": "stdout",
          "text": [
            "=== Training Progress ===\n",
            "Epoch 50/500, Loss = 20297.8125\n",
            "\n",
            "Epoch 100/500, Loss = 3115.0229\n",
            "\n",
            "Epoch 150/500, Loss = 786.6086\n",
            "\n",
            "Epoch 200/500, Loss = 436.2777\n",
            "\n",
            "Epoch 250/500, Loss = 357.6859\n",
            "\n",
            "Epoch 300/500, Loss = 321.9916\n",
            "\n",
            "Epoch 350/500, Loss = 297.0341\n",
            "\n",
            "Epoch 400/500, Loss = 277.2621\n",
            "\n",
            "Epoch 450/500, Loss = 261.0227\n",
            "\n",
            "Epoch 500/500, Loss = 247.4362\n",
            "\n"
          ]
        }
      ]
    },
    {
      "cell_type": "markdown",
      "source": [
        "5. Results: After the loop, print the final learned values for w and b."
      ],
      "metadata": {
        "id": "zi9lq2rMZb_U"
      }
    },
    {
      "cell_type": "code",
      "source": [
        "print(\"=== Final Learned Parameters ===\")\n",
        "feature_names = [\"Size\", \"Bedrooms\", \"Age\"]\n",
        "weights = w.detach().numpy()\n",
        "bias_val = b.item()\n",
        "\n",
        "# Print each weight with its corresponding feature\n",
        "for name, weight in zip(feature_names, weights):\n",
        "    print(f\"w_{name}: {weight:.4f}\")\n",
        "print(f\"Bias: {bias_val:.4f}\")\n",
        "\n",
        "# Predict house prices after training\n",
        "predicted = model(X_scaled.to(torch.float32)).detach().numpy()\n",
        "\n",
        "# Print predicted prices\n",
        "print(\"\\n=== Predicted House Prices (in $1000s) ===\")\n",
        "for i, price in enumerate(predicted, start=1): print(f\"House {i}: {price:.1f}\\n\")"
      ],
      "metadata": {
        "id": "5Y_n_uMAZhfL",
        "colab": {
          "base_uri": "https://localhost:8080/"
        },
        "outputId": "afa00fb2-7cda-447b-8e79-fbb9154a44ba"
      },
      "execution_count": 7,
      "outputs": [
        {
          "output_type": "stream",
          "name": "stdout",
          "text": [
            "=== Final Learned Parameters ===\n",
            "w_Size: 71.2383\n",
            "w_Bedrooms: 17.9257\n",
            "w_Age: -16.2900\n",
            "Bias: 377.7623\n",
            "\n",
            "=== Predicted House Prices (in $1000s) ===\n",
            "House 1: 325.8\n",
            "\n",
            "House 2: 390.8\n",
            "\n",
            "House 3: 251.8\n",
            "\n",
            "House 4: 445.5\n",
            "\n",
            "House 5: 347.9\n",
            "\n",
            "House 6: 564.8\n",
            "\n",
            "House 7: 221.3\n",
            "\n",
            "House 8: 480.6\n",
            "\n",
            "House 9: 371.4\n",
            "\n"
          ]
        }
      ]
    }
  ]
}