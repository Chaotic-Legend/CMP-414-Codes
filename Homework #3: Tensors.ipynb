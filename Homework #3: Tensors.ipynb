{
  "nbformat": 4,
  "nbformat_minor": 0,
  "metadata": {
    "colab": {
      "provenance": [],
      "include_colab_link": true
    },
    "kernelspec": {
      "name": "python3",
      "display_name": "Python 3"
    },
    "language_info": {
      "name": "python"
    }
  },
  "cells": [
    {
      "cell_type": "markdown",
      "metadata": {
        "id": "view-in-github",
        "colab_type": "text"
      },
      "source": [
        "<a href=\"https://colab.research.google.com/github/Chaotic-Legend/CMP-414-Codes/blob/main/Homework3.ipynb\" target=\"_parent\"><img src=\"https://colab.research.google.com/assets/colab-badge.svg\" alt=\"Open In Colab\"/></a>"
      ]
    },
    {
      "cell_type": "markdown",
      "source": [
        "# Homework #3: Tensors"
      ],
      "metadata": {
        "id": "tZ2HWfM8oNEh"
      }
    },
    {
      "cell_type": "markdown",
      "source": [
        "1. Create a tensor `a` from `list(range(9))`. Print the tensor and display its shape."
      ],
      "metadata": {
        "id": "1e1w6xOam4lV"
      }
    },
    {
      "cell_type": "code",
      "source": [
        "# Homework 3: Tensors\n",
        "import torch\n",
        "a = torch.tensor(list(range(9)))\n",
        "print(\"Step 1: Create tensor a from range(9).\\n\")\n",
        "print(\"Tensor a:\", a)\n",
        "print(\"\\nShape of a:\", a.shape)"
      ],
      "metadata": {
        "id": "4zHIdARbnD75",
        "outputId": "59486e1d-104a-4be1-db82-16767cd769f9",
        "colab": {
          "base_uri": "https://localhost:8080/"
        }
      },
      "execution_count": null,
      "outputs": [
        {
          "output_type": "stream",
          "name": "stdout",
          "text": [
            "Step 1: Create tensor a from range(9).\n",
            "\n",
            "Tensor a: tensor([0, 1, 2, 3, 4, 5, 6, 7, 8])\n",
            "\n",
            "Shape of a: torch.Size([9])\n"
          ]
        }
      ]
    },
    {
      "cell_type": "markdown",
      "source": [
        "2. Create a new tensor using `b = a.view(3, 3)`. Explain what `view` does to the tensor and display `b`."
      ],
      "metadata": {
        "id": "wBqQYuHVnUCc"
      }
    },
    {
      "cell_type": "code",
      "source": [
        "b = a.view(3, 3)\n",
        "print(\"Step 2: Reshape a into a 3x3 tensor using view().\\n\")\n",
        "print(\"Tensor b:\\n\", b)\n",
        "print(\"\\nShape of b:\", b.shape)\n",
        "print(\"\\nExplanation: The .view() method does not copy the data. Instead, it creates a new view of the same\")\n",
        "print(\"underlying storage with the specified dimensions. This means that a and b share the same memory.\\n\")"
      ],
      "metadata": {
        "id": "oFiUHIPbneVy",
        "outputId": "877f936e-9ad4-4d63-eace-0e987f29b5e3",
        "colab": {
          "base_uri": "https://localhost:8080/"
        }
      },
      "execution_count": null,
      "outputs": [
        {
          "output_type": "stream",
          "name": "stdout",
          "text": [
            "Step 2: Reshape a into a 3x3 tensor using view().\n",
            "\n",
            "Tensor b:\n",
            " tensor([[0, 1, 2],\n",
            "        [3, 4, 5],\n",
            "        [6, 7, 8]])\n",
            "\n",
            "Shape of b: torch.Size([3, 3])\n",
            "\n",
            "Explanation: The .view() method does not copy the data. Instead, it creates a new view of the same\n",
            "underlying storage with the specified dimensions. This means that a and b share the same memory.\n",
            "\n"
          ]
        }
      ]
    },
    {
      "cell_type": "markdown",
      "source": [
        "3. Change the first element of `b` to 100. Print `a` and `b`. Notice that tensor `a` is also affected by the assignment."
      ],
      "metadata": {
        "id": "KIJceooaniTZ"
      }
    },
    {
      "cell_type": "code",
      "source": [
        "b[0, 0] = 100\n",
        "print(\"Step 3: Change the first element of b to 100.\\n\")\n",
        "print(\"Tensor a (after modification of b):\", a)\n",
        "print(\"\\nTensor b (after modification):\\n\", b)"
      ],
      "metadata": {
        "id": "SALXAvbLnhqS",
        "colab": {
          "base_uri": "https://localhost:8080/"
        },
        "outputId": "cb0ed058-a41f-4dbb-bdfe-48dfe08b684b"
      },
      "execution_count": null,
      "outputs": [
        {
          "output_type": "stream",
          "name": "stdout",
          "text": [
            "Step 3: Change the first element of b to 100.\n",
            "\n",
            "Tensor a (after modification of b): tensor([100,   1,   2,   3,   4,   5,   6,   7,   8])\n",
            "\n",
            "Tensor b (after modification):\n",
            " tensor([[100,   1,   2],\n",
            "        [  3,   4,   5],\n",
            "        [  6,   7,   8]])\n"
          ]
        }
      ]
    },
    {
      "cell_type": "markdown",
      "source": [
        "4. Find a function in the `torch` library that calculates the logrithm of numbers. Apply the function to tensor `a` and print the results."
      ],
      "metadata": {
        "id": "ky5o40qTnH2W"
      }
    },
    {
      "cell_type": "code",
      "source": [
        "# The function in torch is torch.log()\n",
        "log_a = torch.log(a.float())\n",
        "print(\"Step 4: Apply logarithm to tensor a using torch.log().\\n\")\n",
        "print(\"Logarithm of tensor a:\", log_a)"
      ],
      "metadata": {
        "id": "11MYSDfpn9tJ",
        "colab": {
          "base_uri": "https://localhost:8080/"
        },
        "outputId": "7e761613-970b-492a-d53a-899ffcdcbdae"
      },
      "execution_count": null,
      "outputs": [
        {
          "output_type": "stream",
          "name": "stdout",
          "text": [
            "Step 4: Apply logarithm to tensor a using torch.log().\n",
            "\n",
            "Logarithm of tensor a: tensor([4.6052, 0.0000, 0.6931, 1.0986, 1.3863, 1.6094, 1.7918, 1.9459, 2.0794])\n"
          ]
        }
      ]
    }
  ]
}
