{
  "nbformat": 4,
  "nbformat_minor": 0,
  "metadata": {
    "colab": {
      "provenance": [],
      "authorship_tag": "ABX9TyOo1tb9RRxxvOrMU0MQmBK8",
      "include_colab_link": true
    },
    "kernelspec": {
      "name": "python3",
      "display_name": "Python 3"
    },
    "language_info": {
      "name": "python"
    }
  },
  "cells": [
    {
      "cell_type": "markdown",
      "metadata": {
        "id": "view-in-github",
        "colab_type": "text"
      },
      "source": [
        "<a href=\"https://colab.research.google.com/github/Chaotic-Legend/CMP-414-Codes/blob/main/Homework1.ipynb\" target=\"_parent\"><img src=\"https://colab.research.google.com/assets/colab-badge.svg\" alt=\"Open In Colab\"/></a>"
      ]
    },
    {
      "cell_type": "code",
      "execution_count": null,
      "metadata": {
        "id": "lZNA7PxO8ZMl",
        "colab": {
          "base_uri": "https://localhost:8080/"
        },
        "outputId": "4ccc5887-3671-4f96-9137-fa84fe1e7072"
      },
      "outputs": [
        {
          "output_type": "stream",
          "name": "stdout",
          "text": [
            "3.12.11 (main, Jun  4 2025, 08:56:18) [GCC 11.4.0]\n"
          ]
        }
      ],
      "source": [
        "# Homework 1: Python\n",
        "import sys\n",
        "print(sys.version)"
      ]
    },
    {
      "cell_type": "code",
      "source": [
        "import torch\n",
        "print(torch.__version__)"
      ],
      "metadata": {
        "id": "vV6z8P4m-Nzt",
        "colab": {
          "base_uri": "https://localhost:8080/"
        },
        "outputId": "68edea0e-0473-4f4e-b943-280e80a8e629"
      },
      "execution_count": null,
      "outputs": [
        {
          "output_type": "stream",
          "name": "stdout",
          "text": [
            "2.8.0+cu126\n"
          ]
        }
      ]
    },
    {
      "cell_type": "code",
      "source": [
        "torch.cuda.is_available()"
      ],
      "metadata": {
        "id": "Bv-7L9i8-rbk",
        "colab": {
          "base_uri": "https://localhost:8080/"
        },
        "outputId": "e565b0df-31ff-4b79-c748-dbdfc1376219"
      },
      "execution_count": null,
      "outputs": [
        {
          "output_type": "execute_result",
          "data": {
            "text/plain": [
              "False"
            ]
          },
          "metadata": {},
          "execution_count": 16
        }
      ]
    },
    {
      "cell_type": "markdown",
      "source": [
        "The statement \"torch.cuda.is_available()\" checks if your computer or the Google Colab environment has a CUDA-capable GPU that PyTorch can utilize. If the result returns **True**, it indicates a GPU is available, allowing PyTorch to use your computer's GPU to speed up computations. If the result is **False**, it indicates no compatible GPU is available, meaning PyTorch will only use your computer's CPU. Using a GPU can significantly speed up the training of deep learning models compared to using only a CPU."
      ],
      "metadata": {
        "id": "0Wzv8uB4-seQ"
      }
    }
  ]
}